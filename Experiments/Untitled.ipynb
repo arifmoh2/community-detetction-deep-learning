{
 "cells": [
  {
   "cell_type": "code",
   "execution_count": 1,
   "id": "86e4f1c6",
   "metadata": {},
   "outputs": [
    {
     "name": "stderr",
     "output_type": "stream",
     "text": [
      "/Users/mustafaarif/opt/anaconda3/envs/networks/lib/python3.10/site-packages/tqdm/auto.py:22: TqdmWarning: IProgress not found. Please update jupyter and ipywidgets. See https://ipywidgets.readthedocs.io/en/stable/user_install.html\n",
      "  from .autonotebook import tqdm as notebook_tqdm\n"
     ]
    }
   ],
   "source": [
    "from ms_autoencoder import GraphEncoder\n",
    "from sklearn.datasets import load_wine\n",
    "from sklearn import preprocessing\n",
    "from sklearn.metrics.pairwise import cosine_similarity\n",
    "from sklearn.metrics.cluster import normalized_mutual_info_score\n",
    "from torch import nn, optim\n",
    "import torch\n",
    "import numpy as np\n",
    "from tqdm import tqdm\n",
    "\n",
    "\n",
    "device = torch.device('cuda' if torch.cuda.is_available() else 'cpu')"
   ]
  },
  {
   "cell_type": "code",
   "execution_count": null,
   "id": "e30de33f",
   "metadata": {},
   "outputs": [],
   "source": []
  },
  {
   "cell_type": "code",
   "execution_count": 2,
   "id": "6da4eea1",
   "metadata": {},
   "outputs": [],
   "source": [
    "#Preprocessing\n",
    "\n",
    "data = load_wine()\n",
    "X = data.data\n",
    "Y = data.target\n",
    "k = len(np.unique(Y))\n",
    "\n",
    "min_max_scaler = preprocessing.MinMaxScaler()\n",
    "X = min_max_scaler.fit_transform(X)\n",
    "\n",
    "S = cosine_similarity(X, X)\n",
    "\n",
    "#Why multiply by D^-1 twice??\n",
    "D = np.diag(1.0 / np.sqrt(S.sum(axis=1)))\n",
    "X_train = torch.tensor(D.dot(S).dot(D)).float().to(device)\n",
    "\n",
    "#Model Setup\n",
    "layers = [len(X_train)] + [128, 64, 128] + [len(X_train)]\n",
    "model = GraphEncoder(layers, k).to(device)\n",
    "optimizer = optim.Adam(model.parameters(), lr=0.01)"
   ]
  },
  {
   "cell_type": "code",
   "execution_count": null,
   "id": "4e3956dd",
   "metadata": {},
   "outputs": [],
   "source": [
    "#Training\n",
    "epochs = 200\n",
    "beta = 0.01\n",
    "rho = 0.5\n",
    "\n",
    "\n",
    "for epoch in range(1, epochs + 1):\n",
    "    optimizer.zero_grad()\n",
    "    print(epoch)\n",
    "    X_hat = model(X_train)\n",
    "    print(epoch)\n",
    "    loss = model.loss(X_hat, X_train, beta, rho)\n",
    "    nmi = normalized_mutual_info_score(model.get_cluster(), Y, average_method='arithmetic')\n",
    "\n",
    "    loss.backward()\n",
    "    optimizer.step()\n",
    "\n",
    "    tq.set_postfix(loss='{:.3f}'.format(loss), nmi='{:.3f}'.format(nmi))\n",
    "    tq.update()\n",
    "print(model.get_cluster())"
   ]
  },
  {
   "cell_type": "code",
   "execution_count": null,
   "id": "96abc8ee",
   "metadata": {},
   "outputs": [],
   "source": []
  },
  {
   "cell_type": "code",
   "execution_count": null,
   "id": "1fd9c2b7",
   "metadata": {},
   "outputs": [],
   "source": []
  }
 ],
 "metadata": {
  "kernelspec": {
   "display_name": "Python 3 (ipykernel)",
   "language": "python",
   "name": "python3"
  },
  "language_info": {
   "codemirror_mode": {
    "name": "ipython",
    "version": 3
   },
   "file_extension": ".py",
   "mimetype": "text/x-python",
   "name": "python",
   "nbconvert_exporter": "python",
   "pygments_lexer": "ipython3",
   "version": "3.10.4"
  }
 },
 "nbformat": 4,
 "nbformat_minor": 5
}